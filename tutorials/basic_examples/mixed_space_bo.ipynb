{
 "cells": [
  {
   "cell_type": "code",
   "execution_count": null,
   "metadata": {},
   "outputs": [],
   "source": [
    "import os\n",
    "\n",
    "import numpy as np\n",
    "import pandas as pd\n",
    "from tqdm import tqdm\n",
    "\n",
    "from bofire_mixed_baselines.benchmarks.synthetic import DiscreteAckley\n",
    "from bofire_mixed_baselines.data_models.strategies.api import (\n",
    "    AnyStrategy,\n",
    "    BARTGridStrategy,\n",
    "    RelaxedSoboStrategy,\n",
    ")\n",
    "from bofire_mixed_baselines.data_models.strategies.mapper import strategy_map\n",
    "from bofire_mixed_baselines.data_models.surrogates.api import BARTSurrogate"
   ]
  },
  {
   "cell_type": "code",
   "execution_count": 8,
   "metadata": {},
   "outputs": [],
   "source": [
    "SMOKE_TEST = os.environ.get(\"SMOKE_TEST\")\n",
    "if SMOKE_TEST:\n",
    "    num_runs = 1\n",
    "    num_iters = 5\n",
    "    verbose = False\n",
    "else:\n",
    "    num_runs = 2\n",
    "    num_iters = 10\n",
    "    verbose = True"
   ]
  },
  {
   "cell_type": "code",
   "execution_count": 9,
   "metadata": {},
   "outputs": [],
   "source": [
    "benchmark = DiscreteAckley(discrete_dim=2, cont_dim=2)\n",
    "domain = benchmark.domain\n",
    "bart_strategy_dm = BARTGridStrategy(\n",
    "    domain=domain,\n",
    "    surrogate_specs=BARTSurrogate(\n",
    "        inputs=domain.inputs,\n",
    "        outputs=domain.outputs,\n",
    "    ),\n",
    ")\n",
    "sobo_strategy_dm = RelaxedSoboStrategy(domain=benchmark.domain, seed=0)\n",
    "\n",
    "strategy_data_models = [\n",
    "    # bart_strategy_dm,\n",
    "    sobo_strategy_dm,\n",
    "]"
   ]
  },
  {
   "cell_type": "code",
   "execution_count": 10,
   "metadata": {},
   "outputs": [],
   "source": [
    "def run_bo(strategy_dm: AnyStrategy, initial_experiments: pd.DataFrame) -> pd.DataFrame:\n",
    "    strategy = strategy_map(strategy_dm)\n",
    "    strategy.tell(initial_experiments)\n",
    "    for _ in tqdm(range(num_iters), disable=not verbose):\n",
    "        candidate = strategy.ask(1)\n",
    "        y = benchmark.f(candidate, return_complete=True)\n",
    "        strategy.tell(y)\n",
    "    return strategy.experiments"
   ]
  },
  {
   "cell_type": "code",
   "execution_count": null,
   "metadata": {},
   "outputs": [],
   "source": [
    "all_results = pd.DataFrame(\n",
    "    columns=pd.MultiIndex.from_tuples([], names=(\"strategy\", \"run_idx\"))\n",
    ")\n",
    "for strategy_dm in strategy_data_models:\n",
    "    for run_idx in range(num_runs):\n",
    "        samples = domain.inputs.sample(10, seed=run_idx)\n",
    "        experiments = benchmark.f(samples, return_complete=True)\n",
    "        results = run_bo(strategy_dm, experiments)\n",
    "        y_lbl = domain.outputs.get_keys()[0]\n",
    "        all_results[strategy_dm.type, run_idx] = results[y_lbl]"
   ]
  },
  {
   "cell_type": "code",
   "execution_count": null,
   "metadata": {},
   "outputs": [],
   "source": [
    "import matplotlib.pyplot as plt\n",
    "\n",
    "\n",
    "def plot_regret(ax: plt.Axes, experiments: pd.DataFrame):\n",
    "    y_lbl = domain.outputs.get_keys()[0]\n",
    "    opt = 0\n",
    "    print(opt)\n",
    "    model_results = (\n",
    "        experiments.iloc[num_iters:].loc[:, (\"RelaxedSoboStrategy\",)].mean(axis=1)\n",
    "    )\n",
    "    regret = np.abs(model_results - opt)\n",
    "    print(regret.shape)\n",
    "    ax.plot(regret.cummin(), label=\"SOBO\")\n",
    "\n",
    "\n",
    "fig, ax = plt.subplots()\n",
    "plot_regret(ax, all_results)"
   ]
  },
  {
   "cell_type": "code",
   "execution_count": null,
   "metadata": {},
   "outputs": [],
   "source": [
    "all_results.iloc[num_iters:].loc[:, (\"RelaxedSoboStrategy\", slice(None))].mean(axis=1)"
   ]
  }
 ],
 "metadata": {
  "kernelspec": {
   "display_name": "venv",
   "language": "python",
   "name": "python3"
  },
  "language_info": {
   "codemirror_mode": {
    "name": "ipython",
    "version": 3
   },
   "file_extension": ".py",
   "mimetype": "text/x-python",
   "name": "python",
   "nbconvert_exporter": "python",
   "pygments_lexer": "ipython3",
   "version": "3.10.11"
  }
 },
 "nbformat": 4,
 "nbformat_minor": 2
}
